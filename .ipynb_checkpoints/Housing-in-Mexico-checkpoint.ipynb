{
 "cells": [
  {
   "cell_type": "code",
   "execution_count": 3,
   "id": "ddf681c9",
   "metadata": {},
   "outputs": [
    {
     "data": {
      "text/plain": [
       "'C:\\\\Users\\\\USER\\\\Desktop\\\\PRACTICE_WORLQUANT_\\\\Pandas-Data-Exploration'"
      ]
     },
     "execution_count": 3,
     "metadata": {},
     "output_type": "execute_result"
    }
   ],
   "source": [
    "pwd"
   ]
  },
  {
   "cell_type": "code",
   "execution_count": 2,
   "id": "c238ae29",
   "metadata": {},
   "outputs": [],
   "source": [
    "#importing the libraries and modules\n",
    "import pandas as pd\n",
    "import numpy as np"
   ]
  },
  {
   "cell_type": "code",
   "execution_count": 4,
   "id": "b830be99",
   "metadata": {},
   "outputs": [],
   "source": [
    "#importing the dataset in csv format\n",
    "df1 = pd.read_csv (\"Housing-in-Mexico.csv\")\n",
    "df2 = pd.read_csv (\"Housing-in-Mexico - 2.csv\")\n",
    "df3 = pd.read_csv (\"Housing-in-Mexico - 3.csv\")"
   ]
  },
  {
   "cell_type": "markdown",
   "id": "4d3ea2bc",
   "metadata": {},
   "source": [
    "## Data Cleaning"
   ]
  },
  {
   "cell_type": "code",
   "execution_count": 5,
   "id": "a58076b8",
   "metadata": {},
   "outputs": [
    {
     "data": {
      "text/plain": [
       "(1000, 6)"
      ]
     },
     "execution_count": 5,
     "metadata": {},
     "output_type": "execute_result"
    }
   ],
   "source": [
    "#Checking for the shape of the dataset i.e the number of observations and features\n",
    "df1.shape\n",
    "df2.shape\n",
    "df3.shape"
   ]
  },
  {
   "cell_type": "code",
   "execution_count": 10,
   "id": "d6948f8f",
   "metadata": {},
   "outputs": [
    {
     "name": "stdout",
     "output_type": "stream",
     "text": [
      "<class 'pandas.core.frame.DataFrame'>\n",
      "RangeIndex: 1000 entries, 0 to 999\n",
      "Data columns (total 6 columns):\n",
      " #   Column         Non-Null Count  Dtype  \n",
      "---  ------         --------------  -----  \n",
      " 0   property_type  1000 non-null   object \n",
      " 1   state          133 non-null    object \n",
      " 2   latitude       1000 non-null   float64\n",
      " 3   longitude      1000 non-null   float64\n",
      " 4   area           1000 non-null   float64\n",
      " 5   price          1000 non-null   object \n",
      "dtypes: float64(3), object(3)\n",
      "memory usage: 47.0+ KB\n",
      "<class 'pandas.core.frame.DataFrame'>\n",
      "RangeIndex: 1000 entries, 0 to 999\n",
      "Data columns (total 6 columns):\n",
      " #   Column         Non-Null Count  Dtype  \n",
      "---  ------         --------------  -----  \n",
      " 0   property_type  1000 non-null   object \n",
      " 1   state          133 non-null    object \n",
      " 2   latitude       1000 non-null   float64\n",
      " 3   longitude      1000 non-null   float64\n",
      " 4   area           1000 non-null   float64\n",
      " 5   price          1000 non-null   object \n",
      "dtypes: float64(3), object(3)\n",
      "memory usage: 47.0+ KB\n",
      "<class 'pandas.core.frame.DataFrame'>\n",
      "RangeIndex: 1000 entries, 0 to 999\n",
      "Data columns (total 6 columns):\n",
      " #   Column         Non-Null Count  Dtype  \n",
      "---  ------         --------------  -----  \n",
      " 0   property_type  1000 non-null   object \n",
      " 1   state          133 non-null    object \n",
      " 2   latitude       1000 non-null   float64\n",
      " 3   longitude      1000 non-null   float64\n",
      " 4   area           1000 non-null   float64\n",
      " 5   price          1000 non-null   object \n",
      "dtypes: float64(3), object(3)\n",
      "memory usage: 47.0+ KB\n"
     ]
    }
   ],
   "source": [
    "#Checking for the datatypes of the dataset\n",
    "df1.info()\n",
    "df2.info()\n",
    "df3.info()"
   ]
  },
  {
   "cell_type": "code",
   "execution_count": 11,
   "id": "60054259",
   "metadata": {},
   "outputs": [
    {
     "data": {
      "text/html": [
       "<div>\n",
       "<style scoped>\n",
       "    .dataframe tbody tr th:only-of-type {\n",
       "        vertical-align: middle;\n",
       "    }\n",
       "\n",
       "    .dataframe tbody tr th {\n",
       "        vertical-align: top;\n",
       "    }\n",
       "\n",
       "    .dataframe thead th {\n",
       "        text-align: right;\n",
       "    }\n",
       "</style>\n",
       "<table border=\"1\" class=\"dataframe\">\n",
       "  <thead>\n",
       "    <tr style=\"text-align: right;\">\n",
       "      <th></th>\n",
       "      <th>property_type</th>\n",
       "      <th>state</th>\n",
       "      <th>latitude</th>\n",
       "      <th>longitude</th>\n",
       "      <th>area</th>\n",
       "      <th>price</th>\n",
       "    </tr>\n",
       "  </thead>\n",
       "  <tbody>\n",
       "    <tr>\n",
       "      <th>0</th>\n",
       "      <td>townhouse</td>\n",
       "      <td>NaN</td>\n",
       "      <td>43.258740</td>\n",
       "      <td>17.888008</td>\n",
       "      <td>434.97</td>\n",
       "      <td>$541,885</td>\n",
       "    </tr>\n",
       "    <tr>\n",
       "      <th>1</th>\n",
       "      <td>house</td>\n",
       "      <td>NaN</td>\n",
       "      <td>34.620202</td>\n",
       "      <td>112.453926</td>\n",
       "      <td>348.25</td>\n",
       "      <td>$601,831</td>\n",
       "    </tr>\n",
       "    <tr>\n",
       "      <th>2</th>\n",
       "      <td>condo</td>\n",
       "      <td>NaN</td>\n",
       "      <td>-4.163679</td>\n",
       "      <td>18.807620</td>\n",
       "      <td>729.05</td>\n",
       "      <td>$153,200</td>\n",
       "    </tr>\n",
       "    <tr>\n",
       "      <th>3</th>\n",
       "      <td>townhouse</td>\n",
       "      <td>NaN</td>\n",
       "      <td>22.826877</td>\n",
       "      <td>107.840624</td>\n",
       "      <td>431.57</td>\n",
       "      <td>$646,160</td>\n",
       "    </tr>\n",
       "    <tr>\n",
       "      <th>4</th>\n",
       "      <td>villa</td>\n",
       "      <td>NaN</td>\n",
       "      <td>27.483293</td>\n",
       "      <td>120.562211</td>\n",
       "      <td>135.08</td>\n",
       "      <td>$885,209</td>\n",
       "    </tr>\n",
       "  </tbody>\n",
       "</table>\n",
       "</div>"
      ],
      "text/plain": [
       "  property_type state   latitude   longitude    area     price\n",
       "0     townhouse   NaN  43.258740   17.888008  434.97  $541,885\n",
       "1         house   NaN  34.620202  112.453926  348.25  $601,831\n",
       "2         condo   NaN  -4.163679   18.807620  729.05  $153,200\n",
       "3     townhouse   NaN  22.826877  107.840624  431.57  $646,160\n",
       "4         villa   NaN  27.483293  120.562211  135.08  $885,209"
      ]
     },
     "execution_count": 11,
     "metadata": {},
     "output_type": "execute_result"
    }
   ],
   "source": [
    "#Checking for the first 5 rows\n",
    "df1.head()\n",
    "df2.head()\n",
    "df3.head()"
   ]
  },
  {
   "cell_type": "code",
   "execution_count": 6,
   "id": "35679f8d",
   "metadata": {},
   "outputs": [
    {
     "data": {
      "text/plain": [
       "0      $541,885\n",
       "1      $601,831\n",
       "2      $153,200\n",
       "3      $646,160\n",
       "4      $885,209\n",
       "         ...   \n",
       "995    $432,552\n",
       "996    $302,069\n",
       "997    $568,993\n",
       "998    $988,252\n",
       "999    $135,854\n",
       "Name: price, Length: 1000, dtype: object"
      ]
     },
     "execution_count": 6,
     "metadata": {},
     "output_type": "execute_result"
    }
   ],
   "source": [
    "#Checking for the values in a particular column-shows frist and last 5\n",
    "df1['price']"
   ]
  },
  {
   "cell_type": "code",
   "execution_count": 13,
   "id": "585f950d",
   "metadata": {},
   "outputs": [
    {
     "data": {
      "text/plain": [
       "50    $346,695 \n",
       "51    $538,717 \n",
       "52     $65,042 \n",
       "53    $757,693 \n",
       "54    $111,287 \n",
       "55    $527,265 \n",
       "56    $721,955 \n",
       "57    $251,340 \n",
       "58    $929,803 \n",
       "59    $889,551 \n",
       "60    $610,061 \n",
       "Name: price, dtype: object"
      ]
     },
     "execution_count": 13,
     "metadata": {},
     "output_type": "execute_result"
    }
   ],
   "source": [
    "#Checking for the values between observations (50-60) in price.\n",
    "df2.price[50:61]"
   ]
  },
  {
   "cell_type": "code",
   "execution_count": 7,
   "id": "5131729d",
   "metadata": {},
   "outputs": [
    {
     "name": "stdout",
     "output_type": "stream",
     "text": [
      "<class 'pandas.core.frame.DataFrame'>\n",
      "RangeIndex: 1000 entries, 0 to 999\n",
      "Data columns (total 6 columns):\n",
      " #   Column         Non-Null Count  Dtype  \n",
      "---  ------         --------------  -----  \n",
      " 0   property_type  1000 non-null   object \n",
      " 1   state          133 non-null    object \n",
      " 2   latitude       1000 non-null   float64\n",
      " 3   longitude      1000 non-null   float64\n",
      " 4   area           1000 non-null   float64\n",
      " 5   price          1000 non-null   float64\n",
      "dtypes: float64(4), object(2)\n",
      "memory usage: 47.0+ KB\n"
     ]
    },
    {
     "data": {
      "text/html": [
       "<div>\n",
       "<style scoped>\n",
       "    .dataframe tbody tr th:only-of-type {\n",
       "        vertical-align: middle;\n",
       "    }\n",
       "\n",
       "    .dataframe tbody tr th {\n",
       "        vertical-align: top;\n",
       "    }\n",
       "\n",
       "    .dataframe thead th {\n",
       "        text-align: right;\n",
       "    }\n",
       "</style>\n",
       "<table border=\"1\" class=\"dataframe\">\n",
       "  <thead>\n",
       "    <tr style=\"text-align: right;\">\n",
       "      <th></th>\n",
       "      <th>property_type</th>\n",
       "      <th>state</th>\n",
       "      <th>latitude</th>\n",
       "      <th>longitude</th>\n",
       "      <th>area</th>\n",
       "      <th>price</th>\n",
       "    </tr>\n",
       "  </thead>\n",
       "  <tbody>\n",
       "    <tr>\n",
       "      <th>0</th>\n",
       "      <td>townhouse</td>\n",
       "      <td>NaN</td>\n",
       "      <td>43.258740</td>\n",
       "      <td>17.888008</td>\n",
       "      <td>434.97</td>\n",
       "      <td>541885.0</td>\n",
       "    </tr>\n",
       "    <tr>\n",
       "      <th>1</th>\n",
       "      <td>house</td>\n",
       "      <td>NaN</td>\n",
       "      <td>34.620202</td>\n",
       "      <td>112.453926</td>\n",
       "      <td>348.25</td>\n",
       "      <td>601831.0</td>\n",
       "    </tr>\n",
       "    <tr>\n",
       "      <th>2</th>\n",
       "      <td>condo</td>\n",
       "      <td>NaN</td>\n",
       "      <td>-4.163679</td>\n",
       "      <td>18.807620</td>\n",
       "      <td>729.05</td>\n",
       "      <td>153200.0</td>\n",
       "    </tr>\n",
       "    <tr>\n",
       "      <th>3</th>\n",
       "      <td>townhouse</td>\n",
       "      <td>NaN</td>\n",
       "      <td>22.826877</td>\n",
       "      <td>107.840624</td>\n",
       "      <td>431.57</td>\n",
       "      <td>646160.0</td>\n",
       "    </tr>\n",
       "    <tr>\n",
       "      <th>4</th>\n",
       "      <td>villa</td>\n",
       "      <td>NaN</td>\n",
       "      <td>27.483293</td>\n",
       "      <td>120.562211</td>\n",
       "      <td>135.08</td>\n",
       "      <td>885209.0</td>\n",
       "    </tr>\n",
       "  </tbody>\n",
       "</table>\n",
       "</div>"
      ],
      "text/plain": [
       "  property_type state   latitude   longitude    area     price\n",
       "0     townhouse   NaN  43.258740   17.888008  434.97  541885.0\n",
       "1         house   NaN  34.620202  112.453926  348.25  601831.0\n",
       "2         condo   NaN  -4.163679   18.807620  729.05  153200.0\n",
       "3     townhouse   NaN  22.826877  107.840624  431.57  646160.0\n",
       "4         villa   NaN  27.483293  120.562211  135.08  885209.0"
      ]
     },
     "execution_count": 7,
     "metadata": {},
     "output_type": "execute_result"
    }
   ],
   "source": [
    "# Ensure 'price' column is of string data type\n",
    "df1['price'] = df1['price'].astype(str)\n",
    "\n",
    "\"\"\"To drop a column that is not needed or in use then use the method\n",
    "df.drop(columns=[\"price\"] inplace=True)\"\"\"\n",
    "\n",
    "#To remove '$' and ',' from the price column and change the datatype to floating-point(float) for manipulation of data with pandas.\n",
    "df1[\"price\"]= (\n",
    "    df1[\"price\"]\n",
    "    .str.replace(\"$\" , \"\", regex=False)\n",
    "    .str.replace(\",\" , \"\")\n",
    "    .astype(float)\n",
    ")\n",
    "df1.info()\n",
    "df1.head()\n"
   ]
  },
  {
   "cell_type": "code",
   "execution_count": 15,
   "id": "1d728d23",
   "metadata": {},
   "outputs": [
    {
     "name": "stdout",
     "output_type": "stream",
     "text": [
      "<class 'pandas.core.frame.DataFrame'>\n",
      "RangeIndex: 1000 entries, 0 to 999\n",
      "Data columns (total 6 columns):\n",
      " #   Column         Non-Null Count  Dtype  \n",
      "---  ------         --------------  -----  \n",
      " 0   property_type  1000 non-null   object \n",
      " 1   state          133 non-null    object \n",
      " 2   latitude       1000 non-null   float64\n",
      " 3   longitude      1000 non-null   float64\n",
      " 4   area           1000 non-null   float64\n",
      " 5   price          1000 non-null   float64\n",
      "dtypes: float64(4), object(2)\n",
      "memory usage: 47.0+ KB\n"
     ]
    },
    {
     "data": {
      "text/html": [
       "<div>\n",
       "<style scoped>\n",
       "    .dataframe tbody tr th:only-of-type {\n",
       "        vertical-align: middle;\n",
       "    }\n",
       "\n",
       "    .dataframe tbody tr th {\n",
       "        vertical-align: top;\n",
       "    }\n",
       "\n",
       "    .dataframe thead th {\n",
       "        text-align: right;\n",
       "    }\n",
       "</style>\n",
       "<table border=\"1\" class=\"dataframe\">\n",
       "  <thead>\n",
       "    <tr style=\"text-align: right;\">\n",
       "      <th></th>\n",
       "      <th>property_type</th>\n",
       "      <th>state</th>\n",
       "      <th>latitude</th>\n",
       "      <th>longitude</th>\n",
       "      <th>area</th>\n",
       "      <th>price</th>\n",
       "    </tr>\n",
       "  </thead>\n",
       "  <tbody>\n",
       "    <tr>\n",
       "      <th>0</th>\n",
       "      <td>townhouse</td>\n",
       "      <td>NaN</td>\n",
       "      <td>43.258740</td>\n",
       "      <td>17.888008</td>\n",
       "      <td>434.97</td>\n",
       "      <td>541885.0</td>\n",
       "    </tr>\n",
       "    <tr>\n",
       "      <th>1</th>\n",
       "      <td>house</td>\n",
       "      <td>NaN</td>\n",
       "      <td>34.620202</td>\n",
       "      <td>112.453926</td>\n",
       "      <td>348.25</td>\n",
       "      <td>601831.0</td>\n",
       "    </tr>\n",
       "    <tr>\n",
       "      <th>2</th>\n",
       "      <td>condo</td>\n",
       "      <td>NaN</td>\n",
       "      <td>-4.163679</td>\n",
       "      <td>18.807620</td>\n",
       "      <td>729.05</td>\n",
       "      <td>153200.0</td>\n",
       "    </tr>\n",
       "    <tr>\n",
       "      <th>3</th>\n",
       "      <td>townhouse</td>\n",
       "      <td>NaN</td>\n",
       "      <td>22.826877</td>\n",
       "      <td>107.840624</td>\n",
       "      <td>431.57</td>\n",
       "      <td>646160.0</td>\n",
       "    </tr>\n",
       "    <tr>\n",
       "      <th>4</th>\n",
       "      <td>villa</td>\n",
       "      <td>NaN</td>\n",
       "      <td>27.483293</td>\n",
       "      <td>120.562211</td>\n",
       "      <td>135.08</td>\n",
       "      <td>885209.0</td>\n",
       "    </tr>\n",
       "  </tbody>\n",
       "</table>\n",
       "</div>"
      ],
      "text/plain": [
       "  property_type state   latitude   longitude    area     price\n",
       "0     townhouse   NaN  43.258740   17.888008  434.97  541885.0\n",
       "1         house   NaN  34.620202  112.453926  348.25  601831.0\n",
       "2         condo   NaN  -4.163679   18.807620  729.05  153200.0\n",
       "3     townhouse   NaN  22.826877  107.840624  431.57  646160.0\n",
       "4         villa   NaN  27.483293  120.562211  135.08  885209.0"
      ]
     },
     "execution_count": 15,
     "metadata": {},
     "output_type": "execute_result"
    }
   ],
   "source": [
    "# Ensure 'price' column is of string data type\n",
    "df2['price'] = df2['price'].astype(str)\n",
    "\n",
    "\"\"\"To drop a column that is not needed or in use then use the method\n",
    "df.drop(columns=[\"price\"] inplace=True)\"\"\"\n",
    "\n",
    "#To remove '$' and ',' from the price column and change the datatype to floating-point(float) for manipulation of data with pandas.\n",
    "df2[\"price\"]= (\n",
    "    df2[\"price\"]\n",
    "    .str.replace(\"$\" , \"\", regex=False)\n",
    "    .str.replace(\",\" , \"\")\n",
    "    .astype(float)\n",
    ")\n",
    "df2.info()\n",
    "df2.head()"
   ]
  },
  {
   "cell_type": "code",
   "execution_count": 8,
   "id": "89efa0a1",
   "metadata": {},
   "outputs": [
    {
     "name": "stdout",
     "output_type": "stream",
     "text": [
      "<class 'pandas.core.frame.DataFrame'>\n",
      "RangeIndex: 1000 entries, 0 to 999\n",
      "Data columns (total 6 columns):\n",
      " #   Column         Non-Null Count  Dtype  \n",
      "---  ------         --------------  -----  \n",
      " 0   property_type  1000 non-null   object \n",
      " 1   state          133 non-null    object \n",
      " 2   latitude       1000 non-null   float64\n",
      " 3   longitude      1000 non-null   float64\n",
      " 4   area           1000 non-null   float64\n",
      " 5   price          1000 non-null   float64\n",
      "dtypes: float64(4), object(2)\n",
      "memory usage: 47.0+ KB\n"
     ]
    },
    {
     "data": {
      "text/html": [
       "<div>\n",
       "<style scoped>\n",
       "    .dataframe tbody tr th:only-of-type {\n",
       "        vertical-align: middle;\n",
       "    }\n",
       "\n",
       "    .dataframe tbody tr th {\n",
       "        vertical-align: top;\n",
       "    }\n",
       "\n",
       "    .dataframe thead th {\n",
       "        text-align: right;\n",
       "    }\n",
       "</style>\n",
       "<table border=\"1\" class=\"dataframe\">\n",
       "  <thead>\n",
       "    <tr style=\"text-align: right;\">\n",
       "      <th></th>\n",
       "      <th>property_type</th>\n",
       "      <th>state</th>\n",
       "      <th>latitude</th>\n",
       "      <th>longitude</th>\n",
       "      <th>area</th>\n",
       "      <th>price</th>\n",
       "    </tr>\n",
       "  </thead>\n",
       "  <tbody>\n",
       "    <tr>\n",
       "      <th>0</th>\n",
       "      <td>townhouse</td>\n",
       "      <td>NaN</td>\n",
       "      <td>43.258740</td>\n",
       "      <td>17.888008</td>\n",
       "      <td>434.97</td>\n",
       "      <td>541885.0</td>\n",
       "    </tr>\n",
       "    <tr>\n",
       "      <th>1</th>\n",
       "      <td>house</td>\n",
       "      <td>NaN</td>\n",
       "      <td>34.620202</td>\n",
       "      <td>112.453926</td>\n",
       "      <td>348.25</td>\n",
       "      <td>601831.0</td>\n",
       "    </tr>\n",
       "    <tr>\n",
       "      <th>2</th>\n",
       "      <td>condo</td>\n",
       "      <td>NaN</td>\n",
       "      <td>-4.163679</td>\n",
       "      <td>18.807620</td>\n",
       "      <td>729.05</td>\n",
       "      <td>153200.0</td>\n",
       "    </tr>\n",
       "    <tr>\n",
       "      <th>3</th>\n",
       "      <td>townhouse</td>\n",
       "      <td>NaN</td>\n",
       "      <td>22.826877</td>\n",
       "      <td>107.840624</td>\n",
       "      <td>431.57</td>\n",
       "      <td>646160.0</td>\n",
       "    </tr>\n",
       "    <tr>\n",
       "      <th>4</th>\n",
       "      <td>villa</td>\n",
       "      <td>NaN</td>\n",
       "      <td>27.483293</td>\n",
       "      <td>120.562211</td>\n",
       "      <td>135.08</td>\n",
       "      <td>885209.0</td>\n",
       "    </tr>\n",
       "  </tbody>\n",
       "</table>\n",
       "</div>"
      ],
      "text/plain": [
       "  property_type state   latitude   longitude    area     price\n",
       "0     townhouse   NaN  43.258740   17.888008  434.97  541885.0\n",
       "1         house   NaN  34.620202  112.453926  348.25  601831.0\n",
       "2         condo   NaN  -4.163679   18.807620  729.05  153200.0\n",
       "3     townhouse   NaN  22.826877  107.840624  431.57  646160.0\n",
       "4         villa   NaN  27.483293  120.562211  135.08  885209.0"
      ]
     },
     "execution_count": 8,
     "metadata": {},
     "output_type": "execute_result"
    }
   ],
   "source": [
    "# Ensure 'price' column is of string data type\n",
    "df3['price'] = df3['price'].astype(str)\n",
    "\n",
    "\"\"\"To drop a column that is not needed or in use then use the method\n",
    "df.drop(columns=[\"price\"] inplace=True)\"\"\"\n",
    "\n",
    "#To remove '$' and ',' from the price column and change the datatype to floating-point(float) for manipulation of data with pandas.\n",
    "df3[\"price\"]= (\n",
    "    df3[\"price\"]\n",
    "    .str.replace(\"$\" , \"\", regex=False)\n",
    "    .str.replace(\",\" , \"\")\n",
    "    .astype(float)\n",
    ")\n",
    "df3.info()\n",
    "df3.head()"
   ]
  },
  {
   "cell_type": "code",
   "execution_count": 9,
   "id": "1c09d761",
   "metadata": {},
   "outputs": [
    {
     "data": {
      "text/plain": [
       "(1000, 6)"
      ]
     },
     "execution_count": 9,
     "metadata": {},
     "output_type": "execute_result"
    }
   ],
   "source": [
    "#Checking for the shape of the dataset i.e the number of observations and features\n",
    "df1.shape\n",
    "df2.shape\n",
    "df3.shape"
   ]
  },
  {
   "cell_type": "code",
   "execution_count": 10,
   "id": "ce134309",
   "metadata": {},
   "outputs": [
    {
     "name": "stdout",
     "output_type": "stream",
     "text": [
      "<class 'pandas.core.frame.DataFrame'>\n",
      "Index: 3000 entries, 0 to 999\n",
      "Data columns (total 6 columns):\n",
      " #   Column         Non-Null Count  Dtype  \n",
      "---  ------         --------------  -----  \n",
      " 0   property_type  3000 non-null   object \n",
      " 1   state          399 non-null    object \n",
      " 2   latitude       3000 non-null   float64\n",
      " 3   longitude      3000 non-null   float64\n",
      " 4   area           3000 non-null   float64\n",
      " 5   price          3000 non-null   object \n",
      "dtypes: float64(3), object(3)\n",
      "memory usage: 164.1+ KB\n"
     ]
    }
   ],
   "source": [
    "#Concatenation of the 3 cleaned datasets\n",
    "final_df = pd.concat([df1, df2, df3])\n",
    "final_df.info()\n"
   ]
  },
  {
   "cell_type": "code",
   "execution_count": 12,
   "id": "f8920735",
   "metadata": {},
   "outputs": [],
   "source": [
    "#Saving the final dataframe to a CSV file\n",
    "final_df.to_csv(\"C:\\\\Users\\\\USER\\\\Desktop\\\\PRACTICE_WORLQUANT_\\\\Pandas-Data-Exploration\\\\Proj1-Housing.csv\", index=False)\n"
   ]
  },
  {
   "cell_type": "code",
   "execution_count": null,
   "id": "d4f4d035",
   "metadata": {},
   "outputs": [],
   "source": []
  }
 ],
 "metadata": {
  "kernelspec": {
   "display_name": "Python 3 (ipykernel)",
   "language": "python",
   "name": "python3"
  },
  "language_info": {
   "codemirror_mode": {
    "name": "ipython",
    "version": 3
   },
   "file_extension": ".py",
   "mimetype": "text/x-python",
   "name": "python",
   "nbconvert_exporter": "python",
   "pygments_lexer": "ipython3",
   "version": "3.11.5"
  }
 },
 "nbformat": 4,
 "nbformat_minor": 5
}
